{
 "cells": [
  {
   "cell_type": "code",
   "execution_count": 1,
   "id": "2b4223f7",
   "metadata": {},
   "outputs": [
    {
     "name": "stdout",
     "output_type": "stream",
     "text": [
      "enter a paragraph: fvkbnkt\n",
      "7\n"
     ]
    }
   ],
   "source": [
    "r = input(\"enter a paragraph: \")\n",
    "k = len(r)\n",
    "print(k)"
   ]
  },
  {
   "cell_type": "code",
   "execution_count": 4,
   "id": "a68ed775",
   "metadata": {},
   "outputs": [
    {
     "name": "stdout",
     "output_type": "stream",
     "text": [
      "\n",
      "1\n",
      "\n"
     ]
    }
   ],
   "source": [
    "#count substring in a string.\n",
    "str1 = 'welcome to aahmedabad'\n",
    "print()\n",
    "print(str1.count(\"welcome\"))\n",
    "print()"
   ]
  },
  {
   "cell_type": "code",
   "execution_count": 6,
   "id": "1afa487b",
   "metadata": {},
   "outputs": [
    {
     "name": "stdout",
     "output_type": "stream",
     "text": [
      "enter a words: mehta nishad\n",
      "mehta nishading\n"
     ]
    }
   ],
   "source": [
    "a = input(\"enter a words: \")\n",
    "b=len(a)\n",
    "if b>2:\n",
    "    if a[-3:] == \"ing\":\n",
    "        b+= \"ly\"\n",
    "    else:\n",
    "        a +=\"ing\"\n",
    "        print(a)"
   ]
  },
  {
   "cell_type": "code",
   "execution_count": 7,
   "id": "a8246f99",
   "metadata": {
    "scrolled": true
   },
   "outputs": [
    {
     "name": "stdout",
     "output_type": "stream",
     "text": [
      "fibonacci series:  0 1 1 2 3 5 8 13 21 34 \n"
     ]
    }
   ],
   "source": [
    "number = 10 \n",
    "n1, n2 = 0,1\n",
    "print(\"fibonacci series: \", n1,n2, end=\" \")\n",
    "for i in range(2,number):\n",
    "    n3 = n1 + n2\n",
    "    n1 = n2\n",
    "    n2 = n3\n",
    "    print(n3, end= \" \")\n",
    "print()\n",
    "    \n",
    "\n"
   ]
  },
  {
   "cell_type": "code",
   "execution_count": 12,
   "id": "44b3f633",
   "metadata": {},
   "outputs": [
    {
     "name": "stdout",
     "output_type": "stream",
     "text": [
      "entert a words: this is not poor\n",
      "this is good\n"
     ]
    }
   ],
   "source": [
    "a= input(\"entert a words: \")\n",
    "k=a.replace(\"not poor\",\"good\")\n",
    "print(k)"
   ]
  },
  {
   "cell_type": "code",
   "execution_count": 16,
   "id": "25d2262a",
   "metadata": {},
   "outputs": [
    {
     "name": "stdout",
     "output_type": "stream",
     "text": [
      "spot\n",
      "tcet\n"
     ]
    }
   ],
   "source": [
    "def reverse_string(str1):\n",
    "    if len(str1) % 4 ==0:\n",
    "        return ''.join(reversed(str1))\n",
    "    return str1\n",
    "print(reverse_string('tops'))\n",
    "print(reverse_string('tect'))"
   ]
  },
  {
   "cell_type": "code",
   "execution_count": 18,
   "id": "cf4beb4f",
   "metadata": {},
   "outputs": [
    {
     "name": "stdout",
     "output_type": "stream",
     "text": [
      "m4re\n",
      "n5n5\n",
      " \n"
     ]
    }
   ],
   "source": [
    "def string_both_ends(str):\n",
    "    if len(str) <2:\n",
    "        return \" \"\n",
    "    return str[0:2] + str[-2:]\n",
    "    \n",
    "print(string_both_ends('m4icore'))\n",
    "print(string_both_ends('n5'))\n",
    "print(string_both_ends('n'))"
   ]
  },
  {
   "cell_type": "code",
   "execution_count": 20,
   "id": "0fe9ace3",
   "metadata": {},
   "outputs": [
    {
     "name": "stdout",
     "output_type": "stream",
     "text": [
      "entert a string: 1234\n",
      "entert a words: mehta\n",
      "12mehta34\n"
     ]
    }
   ],
   "source": [
    "a= input(\"entert a string: \")\n",
    "b= input(\"entert a words: \")\n",
    "print(a[:2] + b +a[2:])\n"
   ]
  },
  {
   "cell_type": "code",
   "execution_count": null,
   "id": "247385cd",
   "metadata": {},
   "outputs": [],
   "source": [
    "a= input(\"entert a string: \")\n",
    "b= input(\"entert a string: \")\n",
    "print(a[0:2] + b[2:])"
   ]
  },
  {
   "cell_type": "code",
   "execution_count": null,
   "id": "82bd0141",
   "metadata": {},
   "outputs": [],
   "source": []
  }
 ],
 "metadata": {
  "kernelspec": {
   "display_name": "Python 3 (ipykernel)",
   "language": "python",
   "name": "python3"
  },
  "language_info": {
   "codemirror_mode": {
    "name": "ipython",
    "version": 3
   },
   "file_extension": ".py",
   "mimetype": "text/x-python",
   "name": "python",
   "nbconvert_exporter": "python",
   "pygments_lexer": "ipython3",
   "version": "3.9.12"
  }
 },
 "nbformat": 4,
 "nbformat_minor": 5
}
