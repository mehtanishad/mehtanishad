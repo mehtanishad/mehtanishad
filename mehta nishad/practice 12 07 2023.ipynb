{
 "cells": [
  {
   "cell_type": "code",
   "execution_count": 4,
   "id": "1170d0dc",
   "metadata": {},
   "outputs": [
    {
     "name": "stdout",
     "output_type": "stream",
     "text": [
      "enter a number: 5\n",
      "positive number\n"
     ]
    }
   ],
   "source": [
    "n = float(input(\"enter a number: \"))\n",
    "if n > 0:\n",
    "    print(\"positive number\")\n",
    "elif n == 0:\n",
    "    print(\"zero\")\n",
    "else:\n",
    "    print(\"negative number\")"
   ]
  },
  {
   "cell_type": "code",
   "execution_count": 11,
   "id": "c48c9491",
   "metadata": {},
   "outputs": [
    {
     "name": "stdout",
     "output_type": "stream",
     "text": [
      "enter a number: 5\n",
      "factorial given number is:  1\n",
      "factorial given number is:  2\n",
      "factorial given number is:  6\n",
      "factorial given number is:  24\n",
      "factorial given number is:  120\n"
     ]
    }
   ],
   "source": [
    "n = int(input(\"enter a number: \"))\n",
    "factorial =1\n",
    "if n>= 1:\n",
    "    for i in range(1, n+1):\n",
    "        factorial = factorial*i\n",
    "        print(\"factorial given number is: \", factorial)\n",
    "    \n",
    "\n"
   ]
  },
  {
   "cell_type": "code",
   "execution_count": 19,
   "id": "e78fb5af",
   "metadata": {},
   "outputs": [],
   "source": [
    "for i in range(9):\n",
    "    if i == 3:\n",
    "        continue\n",
    "        print(i)\n",
    "    \n",
    "    \n"
   ]
  },
  {
   "cell_type": "code",
   "execution_count": 24,
   "id": "5cf063d1",
   "metadata": {},
   "outputs": [
    {
     "name": "stdout",
     "output_type": "stream",
     "text": [
      "enter a number: 5\n",
      "enter a number: 10\n",
      "before swapping a 5, b 10\n",
      "after swapping a 10, b 5\n"
     ]
    }
   ],
   "source": [
    "a = int(input(\"enter a number: \"))\n",
    "b = int(input(\"enter a number: \"))\n",
    "print(f\"before swapping a { a}, b { b}\")\n",
    "temp = a\n",
    "a=b\n",
    "b=temp\n",
    "print(f\"after swapping a { a}, b { b}\")"
   ]
  },
  {
   "cell_type": "code",
   "execution_count": 33,
   "id": "41352ad5",
   "metadata": {},
   "outputs": [
    {
     "name": "stdout",
     "output_type": "stream",
     "text": [
      "enter a letter: \n",
      " is not vowel\n"
     ]
    }
   ],
   "source": [
    "a = input(\"enter a letter: \")\n",
    "if a=='a' or a=='e' or a=='i' or a=='o' or a=='u':\n",
    "    print(f\"{a} is vowel\")\n",
    "else:\n",
    "    print(f\"{a} is not vowel\")"
   ]
  },
  {
   "cell_type": "code",
   "execution_count": 35,
   "id": "df964ca4",
   "metadata": {},
   "outputs": [
    {
     "name": "stdout",
     "output_type": "stream",
     "text": [
      "enter a letter: l\n",
      "l is not vowel\n"
     ]
    }
   ],
   "source": [
    "a = input(\"enter a letter: \")\n",
    "if a=='a'or a=='e' or a=='i'or a=='o' or a=='u':\n",
    "    print(f\"{a} is vowel\")\n",
    "else:\n",
    "    print(f\"{a} is not vowel\")"
   ]
  },
  {
   "cell_type": "code",
   "execution_count": 45,
   "id": "45e42347",
   "metadata": {},
   "outputs": [
    {
     "name": "stdout",
     "output_type": "stream",
     "text": [
      "enter a number: 5\n",
      "this number is odd\n"
     ]
    }
   ],
   "source": [
    "number = int(input(\"enter a number: \"))\n",
    "if (number % 2) == 0:\n",
    "    print(\"this number is even\")\n",
    "else:\n",
    "    print(\"this number is odd\")"
   ]
  },
  {
   "cell_type": "code",
   "execution_count": 46,
   "id": "93b90c7e",
   "metadata": {},
   "outputs": [
    {
     "name": "stdout",
     "output_type": "stream",
     "text": [
      "enter a number: 10\n",
      "this is even\n"
     ]
    }
   ],
   "source": [
    "number = int(input(\"enter a number: \"))\n",
    "if (number % 2) == 0:\n",
    "    print(\"this is even\")\n",
    "else:\n",
    "    print(\"this is odd\")"
   ]
  },
  {
   "cell_type": "code",
   "execution_count": 48,
   "id": "610638ff",
   "metadata": {},
   "outputs": [
    {
     "name": "stdout",
     "output_type": "stream",
     "text": [
      "first  10\n",
      "second  4\n",
      "third  5\n",
      "19\n"
     ]
    }
   ],
   "source": [
    "a = int(input(\"first  \"))\n",
    "b = int(input(\"second  \"))\n",
    "c = int(input(\"third  \"))\n",
    "if a==b or b==c or a==c:\n",
    "    print('sum = 0')\n",
    "else:\n",
    "    sum=a+b+c\n",
    "    print(sum)"
   ]
  },
  {
   "cell_type": "code",
   "execution_count": 50,
   "id": "53d6e59c",
   "metadata": {},
   "outputs": [
    {
     "name": "stdout",
     "output_type": "stream",
     "text": [
      "enter a paragraph: hello\n",
      "5\n"
     ]
    }
   ],
   "source": [
    "n = input(\"enter a paragraph: \")\n",
    "k=len(n)\n",
    "print(k)"
   ]
  },
  {
   "cell_type": "code",
   "execution_count": null,
   "id": "97da526e",
   "metadata": {},
   "outputs": [],
   "source": []
  }
 ],
 "metadata": {
  "kernelspec": {
   "display_name": "Python 3 (ipykernel)",
   "language": "python",
   "name": "python3"
  },
  "language_info": {
   "codemirror_mode": {
    "name": "ipython",
    "version": 3
   },
   "file_extension": ".py",
   "mimetype": "text/x-python",
   "name": "python",
   "nbconvert_exporter": "python",
   "pygments_lexer": "ipython3",
   "version": "3.9.12"
  }
 },
 "nbformat": 4,
 "nbformat_minor": 5
}
