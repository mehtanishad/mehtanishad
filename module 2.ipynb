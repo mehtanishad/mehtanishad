{
 "cells": [
  {
   "cell_type": "code",
   "execution_count": null,
   "id": "8f03d4ac",
   "metadata": {},
   "outputs": [],
   "source": [
    "# Write a Python program to check if a number is positive, negative or zero.\n",
    "\n",
    "n = float(input(\"enter a number: \"))\n",
    "if n>0:\n",
    "    print(\"positive number\")\n",
    "elif n==0:\n",
    "    print(\"zero\")\n",
    "else:\n",
    "    print(\"negative number\")\n",
    "\n"
   ]
  },
  {
   "cell_type": "code",
   "execution_count": 1,
   "id": "3bf34c6a",
   "metadata": {},
   "outputs": [],
   "source": [
    "# Write a Python program to get the Factorial number of given number.\n",
    "n=int(input(\"enter a number: \"))\n",
    "factorial = 1\n",
    "if n>= 1:\n",
    "    for i in range(1,n+1):\n",
    "        factorial=factorial*i\n",
    "print(\"factorial given number:\", factorial)"
   ]
  },
  {
   "cell_type": "code",
   "execution_count": 7,
   "id": "19fef2a4",
   "metadata": {},
   "outputs": [
    {
     "name": "stdout",
     "output_type": "stream",
     "text": [
      "fibonacci series: 0 1 1 2 3 5 8 13 21 34 \n"
     ]
    }
   ],
   "source": [
    "# Write a Python program to get the Fibonacci series of given range.n2\n",
    "number = 10\n",
    "n1,n2 = 0,1\n",
    "print(\"fibonacci series:\",n1,n2, end=\" \")\n",
    "for i in range(2, number):\n",
    "    n3 = n1 + n2\n",
    "    n1 = n2\n",
    "    n2 = n3\n",
    "    print(n3, end=\" \")\n",
    "print()\n"
   ]
  },
  {
   "cell_type": "code",
   "execution_count": 11,
   "id": "2c7f6a36",
   "metadata": {},
   "outputs": [
    {
     "name": "stdout",
     "output_type": "stream",
     "text": [
      "0\n",
      "1\n",
      "2\n",
      "4\n",
      "5\n",
      "6\n",
      "7\n",
      "8\n"
     ]
    }
   ],
   "source": [
    "#What is the purpose continue statement in python?\n",
    "\n",
    "for i in range(9):\n",
    "    if i == 3:\n",
    "        continue\n",
    "    print(i)\n",
    "    "
   ]
  },
  {
   "cell_type": "code",
   "execution_count": 12,
   "id": "74f9e37f",
   "metadata": {},
   "outputs": [
    {
     "name": "stdout",
     "output_type": "stream",
     "text": [
      "enter a first number: 5\n",
      "enter a second number: 10\n",
      "before swapping number a=5, b=10\n",
      "after swapping number a=10, b=5\n"
     ]
    }
   ],
   "source": [
    "# Write python program that swap two number with temp variable.\n",
    "a = int(input(\"enter a first number: \"))\n",
    "b = int(input(\"enter a second number: \"))\n",
    "print(f\"before swapping number a={a}, b={b}\")\n",
    "temp = a\n",
    "a = b\n",
    "b = temp\n",
    "print(f\"after swapping number a={a}, b={b}\")\n"
   ]
  },
  {
   "cell_type": "code",
   "execution_count": 16,
   "id": "14fe4aca",
   "metadata": {},
   "outputs": [
    {
     "name": "stdout",
     "output_type": "stream",
     "text": [
      "a = 10\n",
      "b = 5\n"
     ]
    }
   ],
   "source": [
    "# without temp variable.\n",
    "a = 5\n",
    "b = 10\n",
    "a,b = b, a\n",
    "print(\"a =\",a)\n",
    "print(\"b =\",b)"
   ]
  },
  {
   "cell_type": "code",
   "execution_count": 18,
   "id": "874da622",
   "metadata": {},
   "outputs": [
    {
     "name": "stdout",
     "output_type": "stream",
     "text": [
      "enter a number: 4\n",
      "this is even\n"
     ]
    }
   ],
   "source": [
    "# Write a Python program to find whether a given number is even or odd, print out an appropriate message to the user.\n",
    "number = int(input(\"enter a number: \"))\n",
    "if(number % 2) == 0:\n",
    "    print(\"this is even\")\n",
    "else:\n",
    "    print(\"this is odd\")\n",
    "    \n"
   ]
  },
  {
   "cell_type": "code",
   "execution_count": 20,
   "id": "7ef3f133",
   "metadata": {},
   "outputs": [
    {
     "name": "stdout",
     "output_type": "stream",
     "text": [
      "enter a wordg\n",
      "not vowel\n"
     ]
    }
   ],
   "source": [
    "# Write a Python program to test whether a passed letter is a vowel or not.\n",
    "a = input(\"enter a word\")\n",
    "if a==\"a\" or a==\"e\" or a==\"i\" or a==\"o\" or a==\"u\":\n",
    "    print(\"vowel\")\n",
    "else:\n",
    "    print(\"not vowel\")\n"
   ]
  },
  {
   "cell_type": "code",
   "execution_count": 23,
   "id": "9253bfe7",
   "metadata": {},
   "outputs": [
    {
     "name": "stdout",
     "output_type": "stream",
     "text": [
      "enter a 1st number: 5\n",
      "enter a 2nd number: 4\n",
      "enter a 3rd number: 5\n",
      "sum=0\n"
     ]
    }
   ],
   "source": [
    "#  Write a Python program to sum of three given integers. However, if two values are equal sum will be zero.\n",
    " \n",
    "a = int(input(\"enter a 1st number: \"))\n",
    "b = int(input(\"enter a 2nd number: \"))\n",
    "c = int(input(\"enter a 3rd number: \"))\n",
    "if a==b or b==c or a==c:\n",
    "    print(\"sum=0\")\n",
    "else:\n",
    "    sum=a+b+c\n",
    "    print(sum)"
   ]
  },
  {
   "cell_type": "code",
   "execution_count": 25,
   "id": "7dfc0cf8",
   "metadata": {},
   "outputs": [
    {
     "name": "stdout",
     "output_type": "stream",
     "text": [
      "enter a 1st number: 2\n",
      "enter a 2nd number: 7\n",
      "false\n"
     ]
    }
   ],
   "source": [
    "#  Write a Python program that will return true if the two given integer values are equal or their sum or difference is 5.\n",
    "a= int(input(\"enter a 1st number: \"))\n",
    "b = int(input(\"enter a 2nd number: \"))\n",
    "if a==b or (a-b) == 5 or (a+b) == 5:\n",
    "    print(\"true\")\n",
    "else:\n",
    "    print(\"false\")\n"
   ]
  },
  {
   "cell_type": "code",
   "execution_count": 26,
   "id": "bcf61ea5",
   "metadata": {},
   "outputs": [
    {
     "name": "stdout",
     "output_type": "stream",
     "text": [
      "enter a number5\n",
      "sum of the first 5 positive number 15.0\n"
     ]
    }
   ],
   "source": [
    "# Write a python program to sum of the first n positive integers.\n",
    "n = int(input(\"enter a number\"))\n",
    "sum_num = (n *(n + 1)) /2\n",
    "print(\"sum of the first\", n , \"positive number\", sum_num)"
   ]
  },
  {
   "cell_type": "code",
   "execution_count": null,
   "id": "caf8fd83",
   "metadata": {},
   "outputs": [],
   "source": [
    "# Write a Python program to calculate the length of a string.\n",
    "n = str(input(\"enter a string: \"))\n",
    "k = len(n)\n",
    "print(k)"
   ]
  },
  {
   "cell_type": "code",
   "execution_count": 2,
   "id": "d8084f41",
   "metadata": {},
   "outputs": [
    {
     "name": "stdout",
     "output_type": "stream",
     "text": [
      "\n",
      "3\n",
      "\n"
     ]
    }
   ],
   "source": [
    "# Write a Python program to count occurrences of a substring in a string.\n",
    "n = 'welcone to india'\n",
    "print()\n",
    "print(n.count(\"to\"))\n",
    "print()\n"
   ]
  },
  {
   "cell_type": "code",
   "execution_count": 20,
   "id": "d762cc8b",
   "metadata": {},
   "outputs": [
    {
     "name": "stdout",
     "output_type": "stream",
     "text": [
      "Count of all characters{'w': 1, 'e': 3, 'l': 1, 'c': 1, 'o': 2, 'm': 2, ' ': 2, 't': 1, 'a': 3, 'h': 1, 'd': 2, 'b': 1}\n"
     ]
    }
   ],
   "source": [
    "# Write a Python program to count the number of characters (character frequency) in a string\n",
    "test_str = \"welcome to ahmedabad\"\n",
    " \n",
    "words = {}\n",
    " \n",
    "for i in test_str:\n",
    "    if i in words:\n",
    "        words[i] += 1\n",
    "    else:\n",
    "        words[i] = 1\n",
    "\n",
    "print(\"Count of all characters\"\n",
    "      + str(words))"
   ]
  },
  {
   "cell_type": "code",
   "execution_count": 8,
   "id": "46cbd588",
   "metadata": {},
   "outputs": [
    {
     "name": "stdout",
     "output_type": "stream",
     "text": [
      "count sentence: 3\n"
     ]
    }
   ],
   "source": [
    "# Write a Python program to count the occurrences of each word in a given sentence.\n",
    "test_str = \"welcom to ahmedabad\"\n",
    "\n",
    "string=len(test_str.split())\n",
    "print(\"count sentence: \" +str(string))"
   ]
  },
  {
   "cell_type": "code",
   "execution_count": null,
   "id": "fff81b38",
   "metadata": {},
   "outputs": [],
   "source": [
    "# Write a Python program to get a single string from two given strings, separated by a space and swap the first two characters of each string.\n",
    "\n"
   ]
  },
  {
   "cell_type": "markdown",
   "id": "9fef4b57",
   "metadata": {},
   "source": [
    "## Write a Python program to add 'ing' at the end of a given string (length should be at least 3). If the given string already ends with 'ing' then add'ly' instead if the string length of the given string is less than 3, leave it unchanged."
   ]
  },
  {
   "cell_type": "code",
   "execution_count": null,
   "id": "5ab6dc95",
   "metadata": {},
   "outputs": [],
   "source": [
    "a = str(input(\"enter a words: \"))\n",
    "b = len(a)\n",
    "if b>2:\n",
    "    if a[-3:] == \"ing\":\n",
    "        b +=\"ly\"\n",
    "    else:\n",
    "        a +=\"ing\"\n",
    "        print(a)"
   ]
  },
  {
   "cell_type": "markdown",
   "id": "7271e7f4",
   "metadata": {},
   "source": [
    "# Write a Python program to find the first appearance of the substring'not' and 'poor' from a given string, if 'not' follows the 'poor', replace the whole 'not'...'poor' sub string with 'good'. Return the resulting string."
   ]
  },
  {
   "cell_type": "code",
   "execution_count": 5,
   "id": "45a12a12",
   "metadata": {},
   "outputs": [
    {
     "name": "stdout",
     "output_type": "stream",
     "text": [
      "enter a words: this a not poor\n",
      "this a good\n"
     ]
    }
   ],
   "source": [
    "a =input(\"enter a words: \")\n",
    "k=a.replace('not poor','good')\n",
    "print(k)"
   ]
  },
  {
   "cell_type": "markdown",
   "id": "0221459f",
   "metadata": {},
   "source": [
    "# Write a Python function that takes a list of words and returns the length of the longest one.\n"
   ]
  },
  {
   "cell_type": "code",
   "execution_count": null,
   "id": "87f51d8c",
   "metadata": {},
   "outputs": [],
   "source": [
    "\n",
    "str = input(\"Enter a String: \")\n",
    "word_list = str.split()\n",
    "longest_word = max(word_list, key = len)\n",
    "pos = str.index(longest_word)\n",
    "print(\"Longest word: \",longest_word)\n",
    "print(\"Position of Longest word: \", pos)"
   ]
  },
  {
   "cell_type": "code",
   "execution_count": 8,
   "id": "b3568315",
   "metadata": {},
   "outputs": [
    {
     "name": "stdout",
     "output_type": "stream",
     "text": [
      "spot\n"
     ]
    }
   ],
   "source": [
    "# Write a Python function to reverses a string if its length is a multiple of 4.\n",
    "\n",
    "def reverse_string(str1):\n",
    "    if len(str1) % 4 == 0:\n",
    "        return ''.join(reversed(str1))\n",
    "    return str1\n",
    "print(reverse_string('tops'))"
   ]
  },
  {
   "cell_type": "code",
   "execution_count": 12,
   "id": "bd887f01",
   "metadata": {},
   "outputs": [
    {
     "name": "stdout",
     "output_type": "stream",
     "text": [
      "spot\n"
     ]
    }
   ],
   "source": [
    "string = \"tops\"[::-1]\n",
    "print(string)"
   ]
  },
  {
   "cell_type": "markdown",
   "id": "85dfc201",
   "metadata": {},
   "source": [
    "# Write a Python program to get a string made of the first 2 and the last 2 chars from a given a string. If the string length is less than 2, return instead of the empty string."
   ]
  },
  {
   "cell_type": "code",
   "execution_count": 18,
   "id": "534db0fe",
   "metadata": {},
   "outputs": [
    {
     "name": "stdout",
     "output_type": "stream",
     "text": [
      "he\n",
      "hy\n"
     ]
    }
   ],
   "source": [
    "def string_buth_ends(str):\n",
    "    if len(str) < 2:\n",
    "        return ''\n",
    "    return str[0:2] + str[-2:0]\n",
    "print(string_buth_ends(\"hello\"))\n",
    "print(string_buth_ends(\"hy\"))\n"
   ]
  },
  {
   "cell_type": "code",
   "execution_count": null,
   "id": "638e0f22",
   "metadata": {},
   "outputs": [],
   "source": [
    "# Write a Python function to insert a string in the middle of a string.\n",
    "a = input(\"enter a string: \")\n",
    "b = input(\"enter a words: \")\n",
    "print(a[:2] + b + a[2:])"
   ]
  },
  {
   "cell_type": "markdown",
   "id": "1d499275",
   "metadata": {},
   "source": [
    "# Write a Python program to get a single string from two given strings, separated by a space and swap the first two characters of each string.\n"
   ]
  },
  {
   "cell_type": "code",
   "execution_count": 1,
   "id": "b8cdb969",
   "metadata": {},
   "outputs": [
    {
     "name": "stdout",
     "output_type": "stream",
     "text": [
      "Before Swap : hello   word\n",
      "After Swap : wollo   herd\n"
     ]
    }
   ],
   "source": [
    "a = 'hello'\n",
    "b = 'word'\n",
    "print(\"before swap: \",a,\" \",b)\n",
    "a1 = b[:2] + a[2:]\n",
    "b1 = a[:2] + a[2:]\n",
    "print(\"after swap: \",a1,\" \",b1)"
   ]
  },
  {
   "cell_type": "code",
   "execution_count": null,
   "id": "c393c288",
   "metadata": {},
   "outputs": [],
   "source": []
  },
  {
   "cell_type": "code",
   "execution_count": null,
   "id": "a663a832",
   "metadata": {},
   "outputs": [],
   "source": []
  }
 ],
 "metadata": {
  "kernelspec": {
   "display_name": "Python 3 (ipykernel)",
   "language": "python",
   "name": "python3"
  },
  "language_info": {
   "codemirror_mode": {
    "name": "ipython",
    "version": 3
   },
   "file_extension": ".py",
   "mimetype": "text/x-python",
   "name": "python",
   "nbconvert_exporter": "python",
   "pygments_lexer": "ipython3",
   "version": "3.9.12"
  }
 },
 "nbformat": 4,
 "nbformat_minor": 5
}
